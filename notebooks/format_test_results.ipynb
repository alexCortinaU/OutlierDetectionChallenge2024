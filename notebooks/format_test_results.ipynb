{
 "cells": [
  {
   "cell_type": "code",
   "execution_count": 7,
   "metadata": {},
   "outputs": [
    {
     "name": "stdout",
     "output_type": "stream",
     "text": [
      "     Sample_ID  Prediction\n",
      "0  sample_0001           1\n",
      "1  sample_0004           1\n",
      "2  sample_0005           0\n",
      "3  sample_0006           1\n",
      "4  sample_0009           0\n",
      "             0\n",
      "0  sample_0623\n",
      "1  sample_0797\n",
      "2  sample_0185\n",
      "3  sample_0013\n",
      "4  sample_0051\n"
     ]
    }
   ],
   "source": [
    "import pandas as pd\n",
    "from pathlib import Path\n",
    "mesh_results = pd.read_csv('/home/alejandrocu/OutlierDetectionChallenge2024/predictions_OneClassSVM_547.csv')\n",
    "test_200 = pd.read_csv('/home/alejandrocu/OutlierDetectionChallenge2024/challenge_results/test_files_200.txt', header=None)\n",
    "print(mesh_results.head())\n",
    "print(test_200.head())"
   ]
  },
  {
   "cell_type": "code",
   "execution_count": 8,
   "metadata": {},
   "outputs": [
    {
     "data": {
      "text/plain": [
       "Prediction\n",
       "0    286\n",
       "1    261\n",
       "Name: count, dtype: int64"
      ]
     },
     "execution_count": 8,
     "metadata": {},
     "output_type": "execute_result"
    }
   ],
   "source": [
    "mesh_results.Prediction.value_counts()"
   ]
  },
  {
   "cell_type": "code",
   "execution_count": 10,
   "metadata": {},
   "outputs": [
    {
     "data": {
      "text/html": [
       "<div>\n",
       "<style scoped>\n",
       "    .dataframe tbody tr th:only-of-type {\n",
       "        vertical-align: middle;\n",
       "    }\n",
       "\n",
       "    .dataframe tbody tr th {\n",
       "        vertical-align: top;\n",
       "    }\n",
       "\n",
       "    .dataframe thead th {\n",
       "        text-align: right;\n",
       "    }\n",
       "</style>\n",
       "<table border=\"1\" class=\"dataframe\">\n",
       "  <thead>\n",
       "    <tr style=\"text-align: right;\">\n",
       "      <th></th>\n",
       "      <th>sample_id</th>\n",
       "    </tr>\n",
       "  </thead>\n",
       "  <tbody>\n",
       "    <tr>\n",
       "      <th>0</th>\n",
       "      <td>sample_0623</td>\n",
       "    </tr>\n",
       "    <tr>\n",
       "      <th>1</th>\n",
       "      <td>sample_0797</td>\n",
       "    </tr>\n",
       "    <tr>\n",
       "      <th>2</th>\n",
       "      <td>sample_0185</td>\n",
       "    </tr>\n",
       "    <tr>\n",
       "      <th>3</th>\n",
       "      <td>sample_0013</td>\n",
       "    </tr>\n",
       "    <tr>\n",
       "      <th>4</th>\n",
       "      <td>sample_0051</td>\n",
       "    </tr>\n",
       "    <tr>\n",
       "      <th>...</th>\n",
       "      <td>...</td>\n",
       "    </tr>\n",
       "    <tr>\n",
       "      <th>195</th>\n",
       "      <td>sample_1013</td>\n",
       "    </tr>\n",
       "    <tr>\n",
       "      <th>196</th>\n",
       "      <td>sample_0293</td>\n",
       "    </tr>\n",
       "    <tr>\n",
       "      <th>197</th>\n",
       "      <td>sample_0440</td>\n",
       "    </tr>\n",
       "    <tr>\n",
       "      <th>198</th>\n",
       "      <td>sample_0341</td>\n",
       "    </tr>\n",
       "    <tr>\n",
       "      <th>199</th>\n",
       "      <td>sample_0054</td>\n",
       "    </tr>\n",
       "  </tbody>\n",
       "</table>\n",
       "<p>200 rows × 1 columns</p>\n",
       "</div>"
      ],
      "text/plain": [
       "       sample_id\n",
       "0    sample_0623\n",
       "1    sample_0797\n",
       "2    sample_0185\n",
       "3    sample_0013\n",
       "4    sample_0051\n",
       "..           ...\n",
       "195  sample_1013\n",
       "196  sample_0293\n",
       "197  sample_0440\n",
       "198  sample_0341\n",
       "199  sample_0054\n",
       "\n",
       "[200 rows x 1 columns]"
      ]
     },
     "execution_count": 10,
     "metadata": {},
     "output_type": "execute_result"
    }
   ],
   "source": [
    "# test_ids = pd.read_csv( \"/home/alejandrocu/OutlierDetectionChallenge2024/challenge_results/test_files_200.txt\", header=None)[0].tolist()\n",
    "# df = pd.DataFrame({'sample_id': test_ids})\n",
    "# # df"
   ]
  },
  {
   "cell_type": "code",
   "execution_count": 9,
   "metadata": {},
   "outputs": [
    {
     "name": "stdout",
     "output_type": "stream",
     "text": [
      "547\n"
     ]
    }
   ],
   "source": [
    "test_set_path = Path(\"/media/7tb_encrypted/od_chall/dataset/challenge_data/test\")\n",
    "# (test_set_path/'crop').exists()\n",
    "test_set_files = list((test_set_path/'crops').glob('*crop.nii.gz'))\n",
    "test_set_files = [f.name.split('_crop')[0] for f in test_set_files]\n",
    "test_names = test_200[0].str.strip().to_list()\n",
    "print(len(test_set_files))"
   ]
  },
  {
   "cell_type": "code",
   "execution_count": 11,
   "metadata": {},
   "outputs": [
    {
     "name": "stdout",
     "output_type": "stream",
     "text": [
      "200\n",
      "200\n"
     ]
    }
   ],
   "source": [
    "i = 0\n",
    "results = []\n",
    "for row in mesh_results.iterrows():\n",
    "    # print(row[1])  row[1]['Sample_ID']\n",
    "    sample_id = row[1]['Sample_ID']#row[1]['File_Name'].split('/')[-1].split('_surface')[0]\n",
    "    # print(sample_id)\n",
    "    # print(row[1]['Predicted'])\n",
    "    if sample_id in test_names:\n",
    "        i += 1\n",
    "        # prediction = 0\n",
    "        # if row[1]['Prediction'] == 'not':\n",
    "        #     prediction = 1\n",
    "        # results.append({'scan_id': sample_id, 'outlier': prediction})\n",
    "        \n",
    "        results.append({'scan_id': sample_id, 'outlier': row[1]['Prediction']})\n",
    "        # test_names.remove(sample_id)\n",
    "print(i)\n",
    "print(len(results))"
   ]
  },
  {
   "cell_type": "code",
   "execution_count": 12,
   "metadata": {},
   "outputs": [],
   "source": [
    "import json\n",
    "# Write results to JSON file\n",
    "with open('/home/alejandrocu/OutlierDetectionChallenge2024/mesh_results/test_results_kristin3.json', 'w') as json_file:\n",
    "    json.dump(results, json_file, indent=4)"
   ]
  }
 ],
 "metadata": {
  "kernelspec": {
   "display_name": "chal",
   "language": "python",
   "name": "python3"
  },
  "language_info": {
   "codemirror_mode": {
    "name": "ipython",
    "version": 3
   },
   "file_extension": ".py",
   "mimetype": "text/x-python",
   "name": "python",
   "nbconvert_exporter": "python",
   "pygments_lexer": "ipython3",
   "version": "3.10.14"
  }
 },
 "nbformat": 4,
 "nbformat_minor": 2
}
