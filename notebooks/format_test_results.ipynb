{
 "cells": [
  {
   "cell_type": "code",
   "execution_count": 21,
   "metadata": {},
   "outputs": [
    {
     "name": "stdout",
     "output_type": "stream",
     "text": [
      "                                           File_Path  prediction\n",
      "0  /Volumes/KINGSTON/summerschool/challenge_data/...          -1\n",
      "1  /Volumes/KINGSTON/summerschool/challenge_data/...          -1\n",
      "2  /Volumes/KINGSTON/summerschool/challenge_data/...           1\n",
      "3  /Volumes/KINGSTON/summerschool/challenge_data/...          -1\n",
      "4  /Volumes/KINGSTON/summerschool/challenge_data/...           1\n",
      "             0\n",
      "0  sample_0623\n",
      "1  sample_0797\n",
      "2  sample_0185\n",
      "3  sample_0013\n",
      "4  sample_0051\n"
     ]
    }
   ],
   "source": [
    "import pandas as pd\n",
    "from pathlib import Path\n",
    "mesh_results = pd.read_csv('/home/alejandrocu/OutlierDetectionChallenge2024/predictions_with_file_path_Isolation_Forest.csv')\n",
    "test_200 = pd.read_csv('/home/alejandrocu/OutlierDetectionChallenge2024/challenge_results/test_files_200.txt', header=None)\n",
    "print(mesh_results.head())\n",
    "print(test_200.head())"
   ]
  },
  {
   "cell_type": "code",
   "execution_count": 23,
   "metadata": {},
   "outputs": [
    {
     "data": {
      "text/plain": [
       "prediction\n",
       " 1    367\n",
       "-1    180\n",
       "Name: count, dtype: int64"
      ]
     },
     "execution_count": 23,
     "metadata": {},
     "output_type": "execute_result"
    }
   ],
   "source": [
    "mesh_results.prediction.value_counts()"
   ]
  },
  {
   "cell_type": "code",
   "execution_count": 22,
   "metadata": {},
   "outputs": [
    {
     "name": "stdout",
     "output_type": "stream",
     "text": [
      "547\n"
     ]
    }
   ],
   "source": [
    "test_set_path = Path(\"/media/7tb_encrypted/od_chall/dataset/challenge_data/test\")\n",
    "# (test_set_path/'crop').exists()\n",
    "test_set_files = list((test_set_path/'crops').glob('*crop.nii.gz'))\n",
    "test_set_files = [f.name.split('_crop')[0] for f in test_set_files]\n",
    "test_names = test_200[0].str.strip().to_list()\n",
    "print(len(test_set_files))"
   ]
  },
  {
   "cell_type": "code",
   "execution_count": 26,
   "metadata": {},
   "outputs": [
    {
     "name": "stdout",
     "output_type": "stream",
     "text": [
      "200\n",
      "200\n"
     ]
    }
   ],
   "source": [
    "i = 0\n",
    "results = []\n",
    "for row in mesh_results.iterrows():\n",
    "    # print(row[1])\n",
    "    sample_id = row[1]['File_Path'].split('/')[-1].split('_surface')[0]\n",
    "    # print(sample_id)\n",
    "    # print(row[1]['Predicted'])\n",
    "    if sample_id in test_names:\n",
    "        i += 1\n",
    "        prediction = 0\n",
    "        if row[1]['prediction'] == -1:\n",
    "            prediction = 1\n",
    "        results.append({'scan_id': sample_id, 'outlier': prediction})\n",
    "        # test_names.remove(sample_id)\n",
    "print(i)\n",
    "print(len(results))"
   ]
  },
  {
   "cell_type": "code",
   "execution_count": 27,
   "metadata": {},
   "outputs": [],
   "source": [
    "import json\n",
    "# Write results to JSON file\n",
    "with open('/home/alejandrocu/OutlierDetectionChallenge2024/mesh_results/test_results_thanos.json', 'w') as json_file:\n",
    "    json.dump(results, json_file, indent=4)"
   ]
  }
 ],
 "metadata": {
  "kernelspec": {
   "display_name": "chal",
   "language": "python",
   "name": "python3"
  },
  "language_info": {
   "codemirror_mode": {
    "name": "ipython",
    "version": 3
   },
   "file_extension": ".py",
   "mimetype": "text/x-python",
   "name": "python",
   "nbconvert_exporter": "python",
   "pygments_lexer": "ipython3",
   "version": "3.10.14"
  }
 },
 "nbformat": 4,
 "nbformat_minor": 2
}
