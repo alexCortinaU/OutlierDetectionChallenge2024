{
 "cells": [
  {
   "cell_type": "code",
   "execution_count": 4,
   "metadata": {},
   "outputs": [],
   "source": [
    "\n",
    "import os\n",
    "import vtk\n",
    "import numpy as np\n",
    "import matplotlib.pyplot as plt\n",
    "from vtk.util.numpy_support import vtk_to_numpy\n",
    "import os"
   ]
  },
  {
   "cell_type": "code",
   "execution_count": 17,
   "metadata": {},
   "outputs": [],
   "source": [
    "\n",
    "def vtk_to_vector(pd):\n",
    "\n",
    "    n_points = pd.GetNumberOfPoints()\n",
    "\n",
    "    vec = np.zeros(n_points * 3)\n",
    "\n",
    "    for i in range(n_points):\n",
    "\n",
    "        p = pd.GetPoint(i)\n",
    "\n",
    "        vec[i*3] = p[0]\n",
    "\n",
    "        vec[i*3+1] = p[1]\n",
    "\n",
    "        vec[i*3+2] = p[2]\n",
    "\n",
    "    return vec\n",
    "\n",
    " \n",
    "\n",
    "def read_and_extract_coordinates(file_path):\n",
    "\n",
    "    # Read the .vtk file\n",
    "\n",
    "    reader = vtk.vtkPolyDataReader()\n",
    "\n",
    "    reader.SetFileName(file_path)\n",
    "\n",
    "    reader.Update()\n",
    "\n",
    " \n",
    "\n",
    "    # Get the polydata object\n",
    "\n",
    "    polydata = reader.GetOutput()\n",
    "\n",
    " \n",
    "\n",
    "    # Convert the polydata to a NumPy vector\n",
    "\n",
    "    vector = vtk_to_vector(polydata)\n",
    "\n",
    " \n",
    "\n",
    "    # Extract x, y, and z coordinates separately\n",
    "\n",
    "    x_coords = vector[0::3]  # Start at index 0, take every 3rd element\n",
    "\n",
    "    y_coords = vector[1::3]  # Start at index 1, take every 3rd element\n",
    "\n",
    "    z_coords = vector[2::3]  # Start at index 2, take every 3rd element\n",
    "\n",
    "    return x_coords, y_coords, z_coords\n",
    "\n"
   ]
  },
  {
   "cell_type": "code",
   "execution_count": 11,
   "metadata": {},
   "outputs": [],
   "source": [
    "# Read the .vtk file\n",
    "\n",
    "folder = \"/Users/aoi/Desktop/Working_Space/data/vertibra/challenge_data/train/surfaces/\""
   ]
  },
  {
   "cell_type": "code",
   "execution_count": 35,
   "metadata": {},
   "outputs": [
    {
     "name": "stderr",
     "output_type": "stream",
     "text": [
      "/var/folders/fg/0vkn43r56nd5hn2b9yq3m_qh0000gn/T/ipykernel_4513/1188757757.py:9: DeprecationWarning: `row_stack` alias is deprecated. Use `np.vstack` directly.\n",
      "  x_all = np.row_stack([x_all,x])\n",
      "/var/folders/fg/0vkn43r56nd5hn2b9yq3m_qh0000gn/T/ipykernel_4513/1188757757.py:10: DeprecationWarning: `row_stack` alias is deprecated. Use `np.vstack` directly.\n",
      "  y_all = np.row_stack([y_all,y])\n",
      "/var/folders/fg/0vkn43r56nd5hn2b9yq3m_qh0000gn/T/ipykernel_4513/1188757757.py:11: DeprecationWarning: `row_stack` alias is deprecated. Use `np.vstack` directly.\n",
      "  z_all = np.row_stack([z_all,z])\n"
     ]
    },
    {
     "name": "stdout",
     "output_type": "stream",
     "text": [
      "546\n"
     ]
    }
   ],
   "source": [
    "counter = 0\n",
    "for file in os.listdir(folder):\n",
    "    if \"surface.vtk\" in file:\n",
    "        x,y,z = read_and_extract_coordinates(os.path.join(folder,file))\n",
    "        if counter == 0:\n",
    "            x_all,y_all,z_all = x,y,z\n",
    "            counter += 1\n",
    "        else:\n",
    "            x_all = np.row_stack([x_all,x])\n",
    "            y_all = np.row_stack([y_all,y])\n",
    "            z_all = np.row_stack([z_all,z])\n",
    "            counter +=1\n",
    "\n",
    "print(counter)\n",
    "                                \n",
    "\n"
   ]
  },
  {
   "cell_type": "code",
   "execution_count": 57,
   "metadata": {},
   "outputs": [],
   "source": [
    "mu_x,std_x = x_all.mean(axis = 0), x_all.std(axis = 0)\n",
    "mu_y,std_y = y_all.mean(axis = 0), y_all.std(axis = 0)\n",
    "mu_z,std_z = z_all.mean(axis = 0), z_all.std(axis = 0)"
   ]
  },
  {
   "cell_type": "code",
   "execution_count": 59,
   "metadata": {},
   "outputs": [
    {
     "name": "stderr",
     "output_type": "stream",
     "text": [
      "/var/folders/fg/0vkn43r56nd5hn2b9yq3m_qh0000gn/T/ipykernel_4513/1148291070.py:9: DeprecationWarning: `row_stack` alias is deprecated. Use `np.vstack` directly.\n",
      "  x_all_bad = np.row_stack([x_all_bad,x])\n",
      "/var/folders/fg/0vkn43r56nd5hn2b9yq3m_qh0000gn/T/ipykernel_4513/1148291070.py:10: DeprecationWarning: `row_stack` alias is deprecated. Use `np.vstack` directly.\n",
      "  y_all_bad = np.row_stack([y_all_bad,y])\n",
      "/var/folders/fg/0vkn43r56nd5hn2b9yq3m_qh0000gn/T/ipykernel_4513/1148291070.py:11: DeprecationWarning: `row_stack` alias is deprecated. Use `np.vstack` directly.\n",
      "  z_all_bad = np.row_stack([z_all_bad,z])\n"
     ]
    },
    {
     "ename": "KeyboardInterrupt",
     "evalue": "",
     "output_type": "error",
     "traceback": [
      "\u001b[0;31m---------------------------------------------------------------------------\u001b[0m",
      "\u001b[0;31mKeyboardInterrupt\u001b[0m                         Traceback (most recent call last)",
      "Cell \u001b[0;32mIn[59], line 11\u001b[0m\n\u001b[1;32m      9\u001b[0m             x_all_bad \u001b[38;5;241m=\u001b[39m np\u001b[38;5;241m.\u001b[39mrow_stack([x_all_bad,x])\n\u001b[1;32m     10\u001b[0m             y_all_bad \u001b[38;5;241m=\u001b[39m np\u001b[38;5;241m.\u001b[39mrow_stack([y_all_bad,y])\n\u001b[0;32m---> 11\u001b[0m             z_all_bad \u001b[38;5;241m=\u001b[39m \u001b[43mnp\u001b[49m\u001b[38;5;241;43m.\u001b[39;49m\u001b[43mrow_stack\u001b[49m\u001b[43m(\u001b[49m\u001b[43m[\u001b[49m\u001b[43mz_all_bad\u001b[49m\u001b[43m,\u001b[49m\u001b[43mz\u001b[49m\u001b[43m]\u001b[49m\u001b[43m)\u001b[49m\n\u001b[1;32m     12\u001b[0m             counter \u001b[38;5;241m+\u001b[39m\u001b[38;5;241m=\u001b[39m\u001b[38;5;241m1\u001b[39m\n\u001b[1;32m     14\u001b[0m \u001b[38;5;28mprint\u001b[39m(counter)\n",
      "File \u001b[0;32m~/anaconda3/envs/vertibra/lib/python3.11/site-packages/numpy/lib/_shape_base_impl.py:612\u001b[0m, in \u001b[0;36mrow_stack\u001b[0;34m(tup, dtype, casting)\u001b[0m\n\u001b[1;32m    603\u001b[0m \u001b[38;5;129m@set_module\u001b[39m(\u001b[38;5;124m\"\u001b[39m\u001b[38;5;124mnumpy\u001b[39m\u001b[38;5;124m\"\u001b[39m)\n\u001b[1;32m    604\u001b[0m \u001b[38;5;28;01mdef\u001b[39;00m \u001b[38;5;21mrow_stack\u001b[39m(tup, \u001b[38;5;241m*\u001b[39m, dtype\u001b[38;5;241m=\u001b[39m\u001b[38;5;28;01mNone\u001b[39;00m, casting\u001b[38;5;241m=\u001b[39m\u001b[38;5;124m\"\u001b[39m\u001b[38;5;124msame_kind\u001b[39m\u001b[38;5;124m\"\u001b[39m):\n\u001b[1;32m    605\u001b[0m     \u001b[38;5;66;03m# Deprecated in NumPy 2.0, 2023-08-18\u001b[39;00m\n\u001b[1;32m    606\u001b[0m     warnings\u001b[38;5;241m.\u001b[39mwarn(\n\u001b[1;32m    607\u001b[0m         \u001b[38;5;124m\"\u001b[39m\u001b[38;5;124m`row_stack` alias is deprecated. \u001b[39m\u001b[38;5;124m\"\u001b[39m\n\u001b[1;32m    608\u001b[0m         \u001b[38;5;124m\"\u001b[39m\u001b[38;5;124mUse `np.vstack` directly.\u001b[39m\u001b[38;5;124m\"\u001b[39m,\n\u001b[1;32m    609\u001b[0m         \u001b[38;5;167;01mDeprecationWarning\u001b[39;00m,\n\u001b[1;32m    610\u001b[0m         stacklevel\u001b[38;5;241m=\u001b[39m\u001b[38;5;241m2\u001b[39m\n\u001b[1;32m    611\u001b[0m     )\n\u001b[0;32m--> 612\u001b[0m     \u001b[38;5;28;01mreturn\u001b[39;00m \u001b[43mvstack\u001b[49m\u001b[43m(\u001b[49m\u001b[43mtup\u001b[49m\u001b[43m,\u001b[49m\u001b[43m \u001b[49m\u001b[43mdtype\u001b[49m\u001b[38;5;241;43m=\u001b[39;49m\u001b[43mdtype\u001b[49m\u001b[43m,\u001b[49m\u001b[43m \u001b[49m\u001b[43mcasting\u001b[49m\u001b[38;5;241;43m=\u001b[39;49m\u001b[43mcasting\u001b[49m\u001b[43m)\u001b[49m\n",
      "File \u001b[0;32m~/anaconda3/envs/vertibra/lib/python3.11/site-packages/numpy/_core/shape_base.py:287\u001b[0m, in \u001b[0;36mvstack\u001b[0;34m(tup, dtype, casting)\u001b[0m\n\u001b[1;32m    285\u001b[0m \u001b[38;5;28;01mif\u001b[39;00m \u001b[38;5;129;01mnot\u001b[39;00m \u001b[38;5;28misinstance\u001b[39m(arrs, \u001b[38;5;28mtuple\u001b[39m):\n\u001b[1;32m    286\u001b[0m     arrs \u001b[38;5;241m=\u001b[39m (arrs,)\n\u001b[0;32m--> 287\u001b[0m \u001b[38;5;28;01mreturn\u001b[39;00m \u001b[43m_nx\u001b[49m\u001b[38;5;241;43m.\u001b[39;49m\u001b[43mconcatenate\u001b[49m\u001b[43m(\u001b[49m\u001b[43marrs\u001b[49m\u001b[43m,\u001b[49m\u001b[43m \u001b[49m\u001b[38;5;241;43m0\u001b[39;49m\u001b[43m,\u001b[49m\u001b[43m \u001b[49m\u001b[43mdtype\u001b[49m\u001b[38;5;241;43m=\u001b[39;49m\u001b[43mdtype\u001b[49m\u001b[43m,\u001b[49m\u001b[43m \u001b[49m\u001b[43mcasting\u001b[49m\u001b[38;5;241;43m=\u001b[39;49m\u001b[43mcasting\u001b[49m\u001b[43m)\u001b[49m\n",
      "\u001b[0;31mKeyboardInterrupt\u001b[0m: "
     ]
    }
   ],
   "source": [
    "counter = 0\n",
    "for file in os.listdir(folder):\n",
    "    if \"surface.vtk\" not in file:\n",
    "        x,y,z = read_and_extract_coordinates(os.path.join(folder,file))\n",
    "        if counter == 0:\n",
    "            x_all_bad,y_all_bad,z_all_bad = x,y,z\n",
    "            counter += 1\n",
    "        else:\n",
    "            x_all_bad = np.row_stack([x_all_bad,x])\n",
    "            y_all_bad = np.row_stack([y_all_bad,y])\n",
    "            z_all_bad = np.row_stack([z_all_bad,z])\n",
    "            counter +=1\n",
    "\n",
    "print(counter)"
   ]
  },
  {
   "cell_type": "code",
   "execution_count": 71,
   "metadata": {},
   "outputs": [
    {
     "name": "stdout",
     "output_type": "stream",
     "text": [
      "(85974,)\n"
     ]
    }
   ],
   "source": [
    "from scipy.stats import norm\n",
    "xcritical = 73.06\n",
    "mean = 72\n",
    "stdev = 0.5\n",
    "\n",
    "x_bad,y_bad,z_bad = x_all_bad[0],y_all_bad[0],z_all_bad[0]\n"
   ]
  },
  {
   "cell_type": "code",
   "execution_count": 79,
   "metadata": {},
   "outputs": [
    {
     "data": {
      "text/plain": [
       "(85974,)"
      ]
     },
     "execution_count": 79,
     "metadata": {},
     "output_type": "execute_result"
    }
   ],
   "source": []
  },
  {
   "cell_type": "code",
   "execution_count": 86,
   "metadata": {},
   "outputs": [
    {
     "data": {
      "text/plain": [
       "(85974, 1000)"
      ]
     },
     "execution_count": 86,
     "metadata": {},
     "output_type": "execute_result"
    }
   ],
   "source": [
    "results = np.zeros((len(mu_x),len(x_bad[:1000])))\n",
    "\n",
    "results.shape"
   ]
  },
  {
   "cell_type": "code",
   "execution_count": 88,
   "metadata": {},
   "outputs": [
    {
     "name": "stderr",
     "output_type": "stream",
     "text": [
      "4299it [19:02,  3.76it/s]\n"
     ]
    },
    {
     "ename": "KeyboardInterrupt",
     "evalue": "",
     "output_type": "error",
     "traceback": [
      "\u001b[0;31m---------------------------------------------------------------------------\u001b[0m",
      "\u001b[0;31mKeyboardInterrupt\u001b[0m                         Traceback (most recent call last)",
      "Cell \u001b[0;32mIn[88], line 6\u001b[0m\n\u001b[1;32m      4\u001b[0m px \u001b[38;5;241m=\u001b[39m norm\u001b[38;5;241m.\u001b[39mcdf(x\u001b[38;5;241m=\u001b[39mxcritical,loc\u001b[38;5;241m=\u001b[39mmx,scale\u001b[38;5;241m=\u001b[39msx)\n\u001b[1;32m      5\u001b[0m py \u001b[38;5;241m=\u001b[39m norm\u001b[38;5;241m.\u001b[39mcdf(x\u001b[38;5;241m=\u001b[39mycritical,loc\u001b[38;5;241m=\u001b[39mmy,scale\u001b[38;5;241m=\u001b[39msy)\n\u001b[0;32m----> 6\u001b[0m pz \u001b[38;5;241m=\u001b[39m \u001b[43mnorm\u001b[49m\u001b[38;5;241;43m.\u001b[39;49m\u001b[43mcdf\u001b[49m\u001b[43m(\u001b[49m\u001b[43mx\u001b[49m\u001b[38;5;241;43m=\u001b[39;49m\u001b[43mzcritical\u001b[49m\u001b[43m,\u001b[49m\u001b[43mloc\u001b[49m\u001b[38;5;241;43m=\u001b[39;49m\u001b[43mmz\u001b[49m\u001b[43m,\u001b[49m\u001b[43mscale\u001b[49m\u001b[38;5;241;43m=\u001b[39;49m\u001b[43msz\u001b[49m\u001b[43m)\u001b[49m\n\u001b[1;32m      7\u001b[0m zx \u001b[38;5;241m=\u001b[39m norm\u001b[38;5;241m.\u001b[39mppf(px)\n\u001b[1;32m      8\u001b[0m zy \u001b[38;5;241m=\u001b[39m norm\u001b[38;5;241m.\u001b[39mppf(py)\n",
      "File \u001b[0;32m~/anaconda3/envs/vertibra/lib/python3.11/site-packages/scipy/stats/_distn_infrastructure.py:2119\u001b[0m, in \u001b[0;36mrv_continuous.cdf\u001b[0;34m(self, x, *args, **kwds)\u001b[0m\n\u001b[1;32m   2117\u001b[0m place(output, cond2, \u001b[38;5;241m1.0\u001b[39m)\n\u001b[1;32m   2118\u001b[0m \u001b[38;5;28;01mif\u001b[39;00m np\u001b[38;5;241m.\u001b[39many(cond):  \u001b[38;5;66;03m# call only if at least 1 entry\u001b[39;00m\n\u001b[0;32m-> 2119\u001b[0m     goodargs \u001b[38;5;241m=\u001b[39m \u001b[43margsreduce\u001b[49m\u001b[43m(\u001b[49m\u001b[43mcond\u001b[49m\u001b[43m,\u001b[49m\u001b[43m \u001b[49m\u001b[38;5;241;43m*\u001b[39;49m\u001b[43m(\u001b[49m\u001b[43m(\u001b[49m\u001b[43mx\u001b[49m\u001b[43m,\u001b[49m\u001b[43m)\u001b[49m\u001b[38;5;241;43m+\u001b[39;49m\u001b[43margs\u001b[49m\u001b[43m)\u001b[49m\u001b[43m)\u001b[49m\n\u001b[1;32m   2120\u001b[0m     place(output, cond, \u001b[38;5;28mself\u001b[39m\u001b[38;5;241m.\u001b[39m_cdf(\u001b[38;5;241m*\u001b[39mgoodargs))\n\u001b[1;32m   2121\u001b[0m \u001b[38;5;28;01mif\u001b[39;00m output\u001b[38;5;241m.\u001b[39mndim \u001b[38;5;241m==\u001b[39m \u001b[38;5;241m0\u001b[39m:\n",
      "File \u001b[0;32m~/anaconda3/envs/vertibra/lib/python3.11/site-packages/scipy/stats/_distn_infrastructure.py:645\u001b[0m, in \u001b[0;36margsreduce\u001b[0;34m(cond, *args)\u001b[0m\n\u001b[1;32m    641\u001b[0m     newargs \u001b[38;5;241m=\u001b[39m (newargs,)\n\u001b[1;32m    643\u001b[0m \u001b[38;5;28;01mif\u001b[39;00m np\u001b[38;5;241m.\u001b[39mall(cond):\n\u001b[1;32m    644\u001b[0m     \u001b[38;5;66;03m# broadcast arrays with cond\u001b[39;00m\n\u001b[0;32m--> 645\u001b[0m     \u001b[38;5;241m*\u001b[39mnewargs, cond \u001b[38;5;241m=\u001b[39m \u001b[43mnp\u001b[49m\u001b[38;5;241;43m.\u001b[39;49m\u001b[43mbroadcast_arrays\u001b[49m\u001b[43m(\u001b[49m\u001b[38;5;241;43m*\u001b[39;49m\u001b[43mnewargs\u001b[49m\u001b[43m,\u001b[49m\u001b[43m \u001b[49m\u001b[43mcond\u001b[49m\u001b[43m)\u001b[49m\n\u001b[1;32m    646\u001b[0m     \u001b[38;5;28;01mreturn\u001b[39;00m [arg\u001b[38;5;241m.\u001b[39mravel() \u001b[38;5;28;01mfor\u001b[39;00m arg \u001b[38;5;129;01min\u001b[39;00m newargs]\n\u001b[1;32m    648\u001b[0m s \u001b[38;5;241m=\u001b[39m cond\u001b[38;5;241m.\u001b[39mshape\n",
      "File \u001b[0;32m~/anaconda3/envs/vertibra/lib/python3.11/site-packages/numpy/lib/_stride_tricks_impl.py:557\u001b[0m, in \u001b[0;36mbroadcast_arrays\u001b[0;34m(subok, *args)\u001b[0m\n\u001b[1;32m    553\u001b[0m \u001b[38;5;28;01mif\u001b[39;00m \u001b[38;5;28mall\u001b[39m(array\u001b[38;5;241m.\u001b[39mshape \u001b[38;5;241m==\u001b[39m shape \u001b[38;5;28;01mfor\u001b[39;00m array \u001b[38;5;129;01min\u001b[39;00m args):\n\u001b[1;32m    554\u001b[0m     \u001b[38;5;66;03m# Common case where nothing needs to be broadcasted.\u001b[39;00m\n\u001b[1;32m    555\u001b[0m     \u001b[38;5;28;01mreturn\u001b[39;00m args\n\u001b[0;32m--> 557\u001b[0m \u001b[38;5;28;01mreturn\u001b[39;00m \u001b[38;5;28mtuple\u001b[39m(_broadcast_to(array, shape, subok\u001b[38;5;241m=\u001b[39msubok, readonly\u001b[38;5;241m=\u001b[39m\u001b[38;5;28;01mFalse\u001b[39;00m)\n\u001b[1;32m    558\u001b[0m              \u001b[38;5;28;01mfor\u001b[39;00m array \u001b[38;5;129;01min\u001b[39;00m args)\n",
      "File \u001b[0;32m~/anaconda3/envs/vertibra/lib/python3.11/site-packages/numpy/lib/_stride_tricks_impl.py:557\u001b[0m, in \u001b[0;36m<genexpr>\u001b[0;34m(.0)\u001b[0m\n\u001b[1;32m    553\u001b[0m \u001b[38;5;28;01mif\u001b[39;00m \u001b[38;5;28mall\u001b[39m(array\u001b[38;5;241m.\u001b[39mshape \u001b[38;5;241m==\u001b[39m shape \u001b[38;5;28;01mfor\u001b[39;00m array \u001b[38;5;129;01min\u001b[39;00m args):\n\u001b[1;32m    554\u001b[0m     \u001b[38;5;66;03m# Common case where nothing needs to be broadcasted.\u001b[39;00m\n\u001b[1;32m    555\u001b[0m     \u001b[38;5;28;01mreturn\u001b[39;00m args\n\u001b[0;32m--> 557\u001b[0m \u001b[38;5;28;01mreturn\u001b[39;00m \u001b[38;5;28mtuple\u001b[39m(\u001b[43m_broadcast_to\u001b[49m\u001b[43m(\u001b[49m\u001b[43marray\u001b[49m\u001b[43m,\u001b[49m\u001b[43m \u001b[49m\u001b[43mshape\u001b[49m\u001b[43m,\u001b[49m\u001b[43m \u001b[49m\u001b[43msubok\u001b[49m\u001b[38;5;241;43m=\u001b[39;49m\u001b[43msubok\u001b[49m\u001b[43m,\u001b[49m\u001b[43m \u001b[49m\u001b[43mreadonly\u001b[49m\u001b[38;5;241;43m=\u001b[39;49m\u001b[38;5;28;43;01mFalse\u001b[39;49;00m\u001b[43m)\u001b[49m\n\u001b[1;32m    558\u001b[0m              \u001b[38;5;28;01mfor\u001b[39;00m array \u001b[38;5;129;01min\u001b[39;00m args)\n",
      "File \u001b[0;32m~/anaconda3/envs/vertibra/lib/python3.11/site-packages/numpy/lib/_stride_tricks_impl.py:361\u001b[0m, in \u001b[0;36m_broadcast_to\u001b[0;34m(array, shape, subok, readonly)\u001b[0m\n\u001b[1;32m    357\u001b[0m extras \u001b[38;5;241m=\u001b[39m []\n\u001b[1;32m    358\u001b[0m it \u001b[38;5;241m=\u001b[39m np\u001b[38;5;241m.\u001b[39mnditer(\n\u001b[1;32m    359\u001b[0m     (array,), flags\u001b[38;5;241m=\u001b[39m[\u001b[38;5;124m'\u001b[39m\u001b[38;5;124mmulti_index\u001b[39m\u001b[38;5;124m'\u001b[39m, \u001b[38;5;124m'\u001b[39m\u001b[38;5;124mrefs_ok\u001b[39m\u001b[38;5;124m'\u001b[39m, \u001b[38;5;124m'\u001b[39m\u001b[38;5;124mzerosize_ok\u001b[39m\u001b[38;5;124m'\u001b[39m] \u001b[38;5;241m+\u001b[39m extras,\n\u001b[1;32m    360\u001b[0m     op_flags\u001b[38;5;241m=\u001b[39m[\u001b[38;5;124m'\u001b[39m\u001b[38;5;124mreadonly\u001b[39m\u001b[38;5;124m'\u001b[39m], itershape\u001b[38;5;241m=\u001b[39mshape, order\u001b[38;5;241m=\u001b[39m\u001b[38;5;124m'\u001b[39m\u001b[38;5;124mC\u001b[39m\u001b[38;5;124m'\u001b[39m)\n\u001b[0;32m--> 361\u001b[0m \u001b[43m\u001b[49m\u001b[38;5;28;43;01mwith\u001b[39;49;00m\u001b[43m \u001b[49m\u001b[43mit\u001b[49m\u001b[43m:\u001b[49m\n\u001b[1;32m    362\u001b[0m \u001b[43m    \u001b[49m\u001b[38;5;66;43;03m# never really has writebackifcopy semantics\u001b[39;49;00m\n\u001b[1;32m    363\u001b[0m \u001b[43m    \u001b[49m\u001b[43mbroadcast\u001b[49m\u001b[43m \u001b[49m\u001b[38;5;241;43m=\u001b[39;49m\u001b[43m \u001b[49m\u001b[43mit\u001b[49m\u001b[38;5;241;43m.\u001b[39;49m\u001b[43mitviews\u001b[49m\u001b[43m[\u001b[49m\u001b[38;5;241;43m0\u001b[39;49m\u001b[43m]\u001b[49m\n\u001b[1;32m    364\u001b[0m result \u001b[38;5;241m=\u001b[39m _maybe_view_as_subclass(array, broadcast)\n",
      "\u001b[0;31mKeyboardInterrupt\u001b[0m: "
     ]
    }
   ],
   "source": [
    "from tqdm import tqdm\n",
    "import multiprocessing\n",
    "import functools\n",
    "\n",
    "\n",
    "def calc_pvals(xcritical,ycritical,zcritical,mx,my,mz,sx,sy,sz,results):\n",
    "    px = norm.cdf(x=xcritical,loc=mx,scale=sx)\n",
    "    py = norm.cdf(x=ycritical,loc=my,scale=sy)\n",
    "    pz = norm.cdf(x=zcritical,loc=mz,scale=sz)\n",
    "    zx = norm.ppf(px)\n",
    "    zy = norm.ppf(py)\n",
    "    zz = norm.ppf(pz)\n",
    "    if zx < 2 and zx > -2:\n",
    "        results[n,f]  = 1\n",
    "    else:\n",
    "        results[n,f] = 0\n",
    "    return results\n",
    "# generate image encoding using multiple threads\n",
    "with multiprocessing.Pool(processes=os.cpu_count() - 1) as pool:\n",
    "    encoding_list = pool.map(functools.partial(calc_pvals), LIST_OF_FUNCTION_ARGS)\n",
    "\n",
    "\n",
    "for n,(mx,sx,my,sy,mz,sz) in tqdm(enumerate(zip(mu_x,std_x,mu_y,std_y,mu_z,std_z))):\n",
    "    for f,(xcritical,ycritical,zcritical) in enumerate(zip(x_bad[:1000],y_bad[:1000],z_bad[:1000])):\n",
    "        \n",
    "        px = norm.cdf(x=xcritical,loc=mx,scale=sx)\n",
    "        py = norm.cdf(x=ycritical,loc=my,scale=sy)\n",
    "        pz = norm.cdf(x=zcritical,loc=mz,scale=sz)\n",
    "        zx = norm.ppf(px)\n",
    "        zy = norm.ppf(py)\n",
    "        zz = norm.ppf(pz)\n",
    "        if zx < 2 and zx > -2:\n",
    "            results[n,f]  = 1\n",
    "        else:\n",
    "            results[n,f] = 0\n"
   ]
  },
  {
   "cell_type": "code",
   "execution_count": 85,
   "metadata": {},
   "outputs": [
    {
     "data": {
      "text/plain": [
       "(1, 85974, 1000)"
      ]
     },
     "execution_count": 85,
     "metadata": {},
     "output_type": "execute_result"
    }
   ],
   "source": [
    "results.shape"
   ]
  },
  {
   "cell_type": "code",
   "execution_count": 25,
   "metadata": {},
   "outputs": [
    {
     "data": {
      "text/plain": [
       "(85974, 2)"
      ]
     },
     "execution_count": 25,
     "metadata": {},
     "output_type": "execute_result"
    }
   ],
   "source": [
    "np.shape(np.stack((x,x),axis = 1))"
   ]
  },
  {
   "cell_type": "code",
   "execution_count": 77,
   "metadata": {},
   "outputs": [
    {
     "data": {
      "image/png": "[encoded data removed]",
      "text/plain": [
       "<Figure size 640x480 with 1 Axes>"
      ]
     },
     "metadata": {},
     "output_type": "display_data"
    }
   ],
   "source": [
    "plt.hist(zs,bins = 1000)\n",
    "plt.show()"
   ]
  },
  {
   "cell_type": "code",
   "execution_count": null,
   "metadata": {},
   "outputs": [],
   "source": []
  }
 ],
 "metadata": {
  "kernelspec": {
   "display_name": "sam",
   "language": "python",
   "name": "python3"
  },
  "language_info": {
   "codemirror_mode": {
    "name": "ipython",
    "version": 3
   },
   "file_extension": ".py",
   "mimetype": "text/x-python",
   "name": "python",
   "nbconvert_exporter": "python",
   "pygments_lexer": "ipython3",
   "version": "3.11.5"
  }
 },
 "nbformat": 4,
 "nbformat_minor": 2
}
