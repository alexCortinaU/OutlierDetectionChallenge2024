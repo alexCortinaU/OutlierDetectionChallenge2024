{
 "cells": [
  {
   "cell_type": "code",
   "execution_count": 1,
   "metadata": {},
   "outputs": [],
   "source": [
    "import monai\n",
    "import lightning as L\n",
    "from lightning import Callback, LightningDataModule, LightningModule, Trainer\n",
    "import torch\n",
    "import yaml\n",
    "import numpy as np\n",
    "import nibabel as nib\n",
    "import matplotlib.pyplot as plt\n",
    "import seaborn as sns\n",
    "import torchio as tio\n",
    "from PIL import Image\n",
    "from pathlib import Path\n",
    "from typing import Any, Dict, List, Tuple\n",
    "\n",
    "from src.models.build_sam3D import sam_model_registry3D\n",
    "\n",
    "data_path = Path(\"/media/7tb_encrypted/od_chall/dataset/challenge_data\")"
   ]
  },
  {
   "cell_type": "code",
   "execution_count": 5,
   "metadata": {},
   "outputs": [
    {
     "name": "stdout",
     "output_type": "stream",
     "text": [
      "2\n"
     ]
    }
   ],
   "source": [
    "# see availabe gpu\n",
    "print(torch.cuda.device_count())"
   ]
  },
  {
   "cell_type": "code",
   "execution_count": 4,
   "metadata": {},
   "outputs": [],
   "source": [
    "batch_size = 5\n",
    "num_workers = 4\n",
    "voxel_size = (2, 2, 2) #(1.171875, 1.171875, 2.5) #(1.5, 1.5, 1.5)\n",
    "crop_size = (128, 128, 128) #(336, 224, 64) #(128, 128, 128)\n",
    "device = 'cuda:1' if torch.cuda.is_available() else 'cpu'\n",
    "\n",
    "transforms = tio.Compose([\n",
    "                            tio.transforms.ToCanonical(),\n",
    "                            tio.transforms.Resample(voxel_size), # , image_interpolation='cosine'\n",
    "                            tio.transforms.CropOrPad(crop_size, padding_mode=-1000), # padding_mode=0), #\n",
    "                            tio.transforms.Clamp(-1000, 1000),\n",
    "                            tio.transforms.RescaleIntensity(out_min_max=(0.0, 1.0), in_min_max=(-1000, 1000))\n",
    "                            ])  \n",
    "\n",
    "# datamodule = CBCTDataModule(data_path=data_path, \n",
    "#                             batch_size=batch_size, \n",
    "#                             num_workers=num_workers, \n",
    "#                             voxel_size=voxel_size, \n",
    "#                             crop_size=crop_size,\n",
    "#                             transforms=transforms)\n",
    "# test_loader = datamodule.test_dataloader()\n",
    "# train_loader = datamodule.train_dataloader()"
   ]
  },
  {
   "cell_type": "code",
   "execution_count": 5,
   "metadata": {},
   "outputs": [
    {
     "name": "stderr",
     "output_type": "stream",
     "text": [
      "/tmp/ipykernel_3055648/746488908.py:10: FutureWarning: You are using `torch.load` with `weights_only=False` (the current default value), which uses the default pickle module implicitly. It is possible to construct malicious pickle data which will execute arbitrary code during unpickling (See https://github.com/pytorch/pytorch/blob/main/SECURITY.md#untrusted-models for more details). In a future release, the default value for `weights_only` will be flipped to `True`. This limits the functions that could be executed during unpickling. Arbitrary objects will no longer be allowed to be loaded via this mode unless they are explicitly allowlisted by the user via `torch.serialization.add_safe_globals`. We recommend you start setting `weights_only=True` for any use case where you don't have full control of the loaded file. Please open an issue on GitHub for any issues related to this experimental feature.\n",
      "  state_dict = torch.load(f, map_location=device)\n"
     ]
    },
    {
     "name": "stdout",
     "output_type": "stream",
     "text": [
      "128\n"
     ]
    }
   ],
   "source": [
    "ckpt_path = data_path.parent / 'sam_med3d_turbo.pth'\n",
    "# with open(ckpt_path, \"rb\") as f:\n",
    "#     state_dict = torch.load(f)\n",
    "# state_dict['args']\n",
    "# Namespace(task_name='ft_general', click_type='random', multi_click=False, model_type='vit_b_ori', checkpoint='ckpt/sam_med3d.pth', device=device(type='cuda', index=0), work_dir='work_dir',\n",
    "#  num_workers=12, gpu_ids=[0, 1], multi_gpu=True, resume=False, allow_partial_weight=False, lr_scheduler='multisteplr', step_size=[120, 180], gamma=0.1, num_epochs=200, img_size=128, batch_size=12, accumulation_steps=20, lr=0.0008, weight_decay=0.1, port=12361, nodes=1, ngpus_per_node=2, world_size=2, rank=0)\n",
    "\n",
    "sam_model = sam_model_registry3D['vit_b_ori'](checkpoint=None).to(device) #vit_b_ori\n",
    "with open(ckpt_path, \"rb\") as f:\n",
    "        state_dict = torch.load(f, map_location=device, weights_only=True)\n",
    "        sam_model.load_state_dict(state_dict['model_state_dict'])\n",
    "print(sam_model.image_encoder.img_size)"
   ]
  },
  {
   "cell_type": "code",
   "execution_count": null,
   "metadata": {},
   "outputs": [],
   "source": [
    "sam_model.eval()\n",
    "sam_model = sam_model.to(device)\n",
    "avg_pool = torch.nn.AdaptiveAvgPool1d((1))\n",
    "\n",
    "latents = []\n",
    "rnd_latents = []\n",
    "for batch in test_loader:\n",
    "    batch = batch.to(device)\n",
    "    rnd_input = torch.randn(batch_size, 1, 128, 128, 128).uniform_(0, 1).to(device)\n",
    "    with torch.no_grad():\n",
    "        latent = sam_model.image_encoder(batch)\n",
    "        latent = latent.reshape(batch_size, latent.shape[1], -1)\n",
    "        rnd_latent = sam_model.image_encoder(rnd_input)\n",
    "        rnd_latent = rnd_latent.reshape(batch_size, rnd_latent.shape[1], -1)\n",
    "\n",
    "        latents.append(avg_pool(latent).squeeze())\n",
    "        rnd_latents.append(avg_pool(rnd_latent).squeeze())\n",
    "\n",
    "print(f'rnd shape: {len(rnd_latents)}, sample shape: {len(latents)}')"
   ]
  }
 ],
 "metadata": {
  "kernelspec": {
   "display_name": "chal",
   "language": "python",
   "name": "python3"
  },
  "language_info": {
   "codemirror_mode": {
    "name": "ipython",
    "version": 3
   },
   "file_extension": ".py",
   "mimetype": "text/x-python",
   "name": "python",
   "nbconvert_exporter": "python",
   "pygments_lexer": "ipython3",
   "version": "3.10.14"
  }
 },
 "nbformat": 4,
 "nbformat_minor": 2
}
